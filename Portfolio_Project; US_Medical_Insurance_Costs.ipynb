{
 "cells": [
  {
   "cell_type": "markdown",
   "metadata": {},
   "source": [
    "# U.S. Medical Insurance Costs"
   ]
  },
  {
   "cell_type": "markdown",
   "metadata": {},
   "source": [
    "The purpose of this project was to demonstrate skills with Python3 to organize and analyze large datasets. The dataset used in this project was of U.S Medical Insurance Costs, which displays the age, sex, bmi, child_status, smoking_status, region and charges of a multitude of individuals."
   ]
  },
  {
   "cell_type": "code",
   "execution_count": 363,
   "metadata": {
    "scrolled": false
   },
   "outputs": [],
   "source": [
    "#import raw medical insurance dataset & seperate data columns for analysis\n",
    "import csv\n",
    "with open(\"insurance.csv\") as insurance_data:\n",
    "    csv_dict = csv.DictReader(insurance_data)\n",
    "    age = []\n",
    "    sex = []\n",
    "    bmi = []\n",
    "    children = []\n",
    "    smoker = []\n",
    "    region = []\n",
    "    charges = []\n",
    "    for row in csv_dict:\n",
    "        age.append(row[\"age\"])\n",
    "        sex.append(row[\"sex\"])\n",
    "        bmi.append(row[\"bmi\"])\n",
    "        children.append(row[\"children\"])\n",
    "        smoker.append(row[\"smoker\"])\n",
    "        region.append(row[\"region\"])\n",
    "        charges.append(row[\"charges\"])\n",
    "                              \n",
    "\n",
    "        \n",
    "        \n",
    "\n"
   ]
  },
  {
   "cell_type": "markdown",
   "metadata": {},
   "source": [
    "# Age Analysis"
   ]
  },
  {
   "cell_type": "code",
   "execution_count": 364,
   "metadata": {
    "scrolled": false
   },
   "outputs": [
    {
     "name": "stdout",
     "output_type": "stream",
     "text": [
      "Individuals Ages with Frequency:\n",
      "Age: 18 : Frequency: 69\n",
      "Age: 19 : Frequency: 68\n",
      "Age: 20 : Frequency: 29\n",
      "Age: 21 : Frequency: 28\n",
      "Age: 22 : Frequency: 28\n",
      "Age: 23 : Frequency: 28\n",
      "Age: 24 : Frequency: 28\n",
      "Age: 25 : Frequency: 28\n",
      "Age: 26 : Frequency: 28\n",
      "Age: 27 : Frequency: 28\n",
      "Age: 28 : Frequency: 28\n",
      "Age: 29 : Frequency: 27\n",
      "Age: 30 : Frequency: 27\n",
      "Age: 31 : Frequency: 27\n",
      "Age: 32 : Frequency: 26\n",
      "Age: 33 : Frequency: 26\n",
      "Age: 34 : Frequency: 26\n",
      "Age: 35 : Frequency: 25\n",
      "Age: 36 : Frequency: 25\n",
      "Age: 37 : Frequency: 25\n",
      "Age: 38 : Frequency: 25\n",
      "Age: 39 : Frequency: 25\n",
      "Age: 40 : Frequency: 27\n",
      "Age: 41 : Frequency: 27\n",
      "Age: 42 : Frequency: 27\n",
      "Age: 43 : Frequency: 27\n",
      "Age: 44 : Frequency: 27\n",
      "Age: 45 : Frequency: 29\n",
      "Age: 46 : Frequency: 29\n",
      "Age: 47 : Frequency: 29\n",
      "Age: 48 : Frequency: 29\n",
      "Age: 49 : Frequency: 28\n",
      "Age: 50 : Frequency: 29\n",
      "Age: 51 : Frequency: 29\n",
      "Age: 52 : Frequency: 29\n",
      "Age: 53 : Frequency: 28\n",
      "Age: 54 : Frequency: 28\n",
      "Age: 55 : Frequency: 26\n",
      "Age: 56 : Frequency: 26\n",
      "Age: 57 : Frequency: 26\n",
      "Age: 58 : Frequency: 25\n",
      "Age: 59 : Frequency: 25\n",
      "Age: 60 : Frequency: 23\n",
      "Age: 61 : Frequency: 23\n",
      "Age: 62 : Frequency: 23\n",
      "Age: 63 : Frequency: 23\n",
      "Age: 64 : Frequency: 22\n",
      "The average age of individuals in the dataset is 39 years old.\n"
     ]
    }
   ],
   "source": [
    "#finding the frequency of ages in the data set\n",
    "def count_ages(age_dataset):\n",
    "    occurence = {age: age_dataset.count(age) for age in age_dataset}\n",
    "    print(\"Individuals Ages with Frequency:\")\n",
    "    for key, value in sorted(occurence.items()):\n",
    "        print(\"Age:\", key, \":\", \"Frequency:\", value)\n",
    "count_ages(age)\n",
    "\n",
    "#find average age from the dataset\n",
    "def calculate_average_age(age_dataset):\n",
    "    total_age = 0\n",
    "    for ages in age:\n",
    "        total_age += int(ages)\n",
    "    average_age = round(total_age / len(age))\n",
    "    print(\"The average age of individuals in the dataset is \" + str(average_age) + \" years old.\") \n",
    "calculate_average_age(age)"
   ]
  },
  {
   "cell_type": "markdown",
   "metadata": {},
   "source": [
    "# Sex Analysis"
   ]
  },
  {
   "cell_type": "code",
   "execution_count": 365,
   "metadata": {},
   "outputs": [
    {
     "name": "stdout",
     "output_type": "stream",
     "text": [
      "Individuals in the dataset consist of 676 (50.52%) males, and 662 (49.48%) females.\n",
      "The average male in the dataset pays 13957 dollars in medical insurance costs, while the average female pays 12570 dollars.\n"
     ]
    }
   ],
   "source": [
    "#finding the proportion of males & females\n",
    "def ratio_male_female(sex_dataset):\n",
    "    male = sex.count(\"male\")\n",
    "    female = sex.count(\"female\")\n",
    "    percentage_male = round(male / len(sex) * 100, 2)\n",
    "    percentage_female = round(female / len(sex) * 100, 2)\n",
    "    print(\"Individuals in the dataset consist of \" + str(male) + \" (\" + str(percentage_male) + \"%) males, and \"\n",
    "          + str(female) + \" (\" + str(percentage_female) + \"%) females.\")\n",
    "ratio_male_female(sex)\n",
    "\n",
    "#average charges by sex\n",
    "def charges_by_sex(sex_dataset, charges_dataset):\n",
    "    total_male_charges = 0\n",
    "    total_female_charges = 0\n",
    "    for c in list(zip(sex_dataset, charges_dataset)):\n",
    "        if c[0] == \"male\":\n",
    "            total_male_charges += round(float(c[1]), 2)\n",
    "        elif c[0] == \"female\":\n",
    "            total_female_charges += round(float(c[1]), 2)\n",
    "    average_male_charges = round(total_male_charges / sex.count(\"male\"))\n",
    "    average_female_charges = round(total_female_charges / sex.count(\"female\"))\n",
    "    print(\"The average male in the dataset pays \" + str(average_male_charges) \n",
    "          +\" dollars in medical insurance costs, while the average female pays \" + str(average_female_charges) + \" dollars.\")\n",
    "charges_by_sex(sex, charges)"
   ]
  },
  {
   "cell_type": "markdown",
   "metadata": {},
   "source": [
    "# BMI Analysis"
   ]
  },
  {
   "cell_type": "code",
   "execution_count": 366,
   "metadata": {},
   "outputs": [
    {
     "name": "stdout",
     "output_type": "stream",
     "text": [
      "The average bmi of all individuals in the dataset is 30.66.\n",
      "The average bmi of males in the dataset is 30.94, while the average bmi of females is 30.38.\n"
     ]
    }
   ],
   "source": [
    "#calculate average bmi\n",
    "def calculate_average_bmi(bmi_dataset):\n",
    "    total_bmi = 0\n",
    "    for b in bmi_dataset:\n",
    "        total_bmi += float(b)\n",
    "    average_bmi = round(total_bmi / len(bmi), 2)\n",
    "    print(\"The average bmi of all individuals in the dataset is \" + str(average_bmi) + \".\")\n",
    "calculate_average_bmi(bmi)\n",
    "\n",
    "#average bmi by sex\n",
    "def calculate_average_bmi_by_sex(sex_dataset, bmi_dataset):\n",
    "    total_male_bmi = 0\n",
    "    total_female_bmi = 0\n",
    "    for b in list(zip(sex_dataset, bmi_dataset)):\n",
    "        if b[0] == \"male\":\n",
    "            total_male_bmi += float(b[1])\n",
    "        elif b[0] == \"female\":\n",
    "            total_female_bmi += float(b[1])\n",
    "    average_male_bmi = round(float(total_male_bmi / sex.count(\"male\")), 2)\n",
    "    average_female_bmi = round(float(total_female_bmi / sex.count(\"female\")), 2)\n",
    "    print(\"The average bmi of males in the dataset is \" + str(average_male_bmi) + \", while the average bmi of females is \" + str(average_female_bmi) + \".\")\n",
    "calculate_average_bmi_by_sex(sex, bmi)"
   ]
  },
  {
   "cell_type": "markdown",
   "metadata": {},
   "source": [
    "# Children Analysis"
   ]
  },
  {
   "cell_type": "code",
   "execution_count": 367,
   "metadata": {},
   "outputs": [
    {
     "name": "stdout",
     "output_type": "stream",
     "text": [
      "Of the 1338 individuals in the dataset, 764 of them have atleast one child. The average age for this group is 23 years old.\n",
      "The average medical costs for individuals with no children is $5304.99. The average medical costs for individuals with atleast one child is $7965.44. The difference between these two categories is $2660.45.\n"
     ]
    }
   ],
   "source": [
    "#determining average age of individuals with atleast 1 child\n",
    "def average_age_of_individuals_with_children(ages, children):\n",
    "    number_of_individuals_with_children = 0\n",
    "    total_age_of_individuals_with_children = 0\n",
    "    for c in list(zip(age, children)):\n",
    "        if c[1] >= \"1\":\n",
    "            number_of_individuals_with_children += 1\n",
    "            total_age_of_individuals_with_children += int(c[0])\n",
    "    average_age_of_individuals_with_children = round(total_age_of_individuals_with_children / len(age))\n",
    "    print(\"Of the \" + str(len(age)) + \" individuals in the dataset, \" + str(number_of_individuals_with_children)\\\n",
    "          + \" of them have atleast one child. The average age for this group is \" + str(average_age_of_individuals_with_children)\\\n",
    "          + \" years old.\") \n",
    "average_age_of_individuals_with_children(age, children)\n",
    "\n",
    "#determine how having atleast 1 child effects medical costs\n",
    "def child_effect_on_medical_costs(children_database, charges_database):\n",
    "    no_child_charges = 0\n",
    "    child_charges = 0\n",
    "    for c in list(zip(children, charges)):\n",
    "        if c[0] == \"0\":\n",
    "            no_child_charges += float(c[1])\n",
    "        elif c[0] >= \"1\":\n",
    "            child_charges += float(c[1])\n",
    "    no_child_average = round(no_child_charges / len(children),2)\n",
    "    child_average = round(child_charges / len(children),2)\n",
    "    difference = abs(no_child_average - child_average)\n",
    "    print(\"The average medical costs for individuals with no children is $\" + str(no_child_average)\\\n",
    "          + \". The average medical costs for individuals with atleast one child is $\" + str(child_average) + \". The difference between these two categories is $\" + str(difference) + \".\")\n",
    "child_effect_on_medical_costs(children, charges)"
   ]
  },
  {
   "cell_type": "markdown",
   "metadata": {},
   "source": [
    "# Smoker Status Analysis"
   ]
  },
  {
   "cell_type": "code",
   "execution_count": 368,
   "metadata": {},
   "outputs": [
    {
     "name": "stdout",
     "output_type": "stream",
     "text": [
      "Of the 1338 individuals in the dataset, 1064 (79.52%) are non-smokers, leaving 274 (20.48%) smokers.\n",
      "The average medical insurance costs of smokers in this dataset is $32050.23 dollars.\n",
      "The average medical insurance costs of non-smokers in this data is $8434.26 dollars.\n"
     ]
    }
   ],
   "source": [
    "#determine frequency of smokers in the dataset\n",
    "def find_smoker_status(smoker_dataset):\n",
    "    total = len(smoker)\n",
    "    smokers = smoker.count(\"yes\")\n",
    "    smoker_percent = round(smokers / total * 100,2)\n",
    "    non_smoker = smoker.count(\"no\")\n",
    "    non_smoker_percent = round(non_smoker / total * 100,2)\n",
    "    print(\"Of the \" + str(total) + \" individuals in the dataset, \" + str(non_smoker) + \" (\" + str(non_smoker_percent)\\\n",
    "          + \"%)\" + \" are non-smokers, leaving \" + str(smokers) + \" (\" + str(smoker_percent) + \"%) \" + \"smokers.\")\n",
    "find_smoker_status(smoker)\n",
    "\n",
    "#analyze difference in insurance cost between smokers and nonsmokers\n",
    "def compare_smoker_status(smoker_dataset):\n",
    "    smoker_total_cost = 0\n",
    "    non_smoker_total_cost = 0\n",
    "    for status in list(zip(smoker, charges)):\n",
    "        if status[0] == \"yes\":\n",
    "            smoker_total_cost += round(float(status[1]))\n",
    "        elif status[0] == \"no\":\n",
    "            non_smoker_total_cost += round(float(status[1]))\n",
    "    average_smoker_charges = round(smoker_total_cost / smoker.count(\"yes\"), 2)\n",
    "    average_non_smoker_charges = round(non_smoker_total_cost / smoker.count(\"no\"), 2)\n",
    "    print(\"The average medical insurance costs of smokers in this dataset is $\" + str(average_smoker_charges) + \" dollars.\")\n",
    "    print(\"The average medical insurance costs of non-smokers in this data is $\" + str(average_non_smoker_charges) + \" dollars.\")\n",
    "compare_smoker_status(smoker)"
   ]
  },
  {
   "cell_type": "markdown",
   "metadata": {},
   "source": [
    "# Region Analysis"
   ]
  },
  {
   "cell_type": "code",
   "execution_count": 369,
   "metadata": {},
   "outputs": [
    {
     "name": "stdout",
     "output_type": "stream",
     "text": [
      "Individuals from the dataset reside in the follow regions {'southwest': 325, 'southeast': 364, 'northwest': 325, 'northeast': 324}, making the most common region the ('southeast', 364).\n",
      "The average medical insurance costs by region is as follows {'Southwest': 12346.94, 'Southeast': 14735.41, 'Northwest': 12417.58, 'Northeast': 13406.38}\n"
     ]
    }
   ],
   "source": [
    "#count of regions & most common region\n",
    "import operator\n",
    "def count_regions(regions_dataset):\n",
    "    occurence = {region: regions_dataset.count(region) for region in regions_dataset}\n",
    "    most_populous = sorted(occurence.items(), key=operator.itemgetter(1), reverse = True)[0]\n",
    "    print(\"Individuals from the dataset reside in the follow regions \" + str(occurence)\\\n",
    "          + \", making the most common region the \" + str(most_populous) + \".\")\n",
    "count_regions(region)\n",
    "\n",
    "#Difference in medical insurance costs by region\n",
    "def calculate_regional_difference(region_dataset, charges_dataset):\n",
    "    southwest_total = 0\n",
    "    southeast_total = 0\n",
    "    northwest_total = 0\n",
    "    northeast_total = 0\n",
    "    for r in list(zip(region_dataset, charges_dataset)):\n",
    "        if r[0] == \"southwest\":\n",
    "            southwest_total += float(r[1])\n",
    "        elif r[0] == \"southeast\":\n",
    "            southeast_total += float(r[1])\n",
    "        elif r[0] == \"northwest\":\n",
    "            northwest_total += float(r[1])\n",
    "        elif r[0] == \"northeast\":\n",
    "            northeast_total += float(r[1])\n",
    "    southwest_average = round(southwest_total / region.count(\"southwest\"),2)\n",
    "    southeast_average = round(southeast_total / region.count(\"southeast\"),2)\n",
    "    northwest_average = round(northwest_total / region.count(\"northwest\"),2)\n",
    "    northeast_average = round(northeast_total / region.count(\"northeast\"),2)\n",
    "    region_dict = {\"Southwest\": southwest_average, \"Southeast\": southeast_average,\\\n",
    "                   \"Northwest\": northwest_average, \"Northeast\": northeast_average}\n",
    "    print(\"The average medical insurance costs by region is as follows \" + str(region_dict))\n",
    "calculate_regional_difference(region, charges)"
   ]
  }
 ],
 "metadata": {
  "kernelspec": {
   "display_name": "Python 3 (ipykernel)",
   "language": "python",
   "name": "python3"
  },
  "language_info": {
   "codemirror_mode": {
    "name": "ipython",
    "version": 3
   },
   "file_extension": ".py",
   "mimetype": "text/x-python",
   "name": "python",
   "nbconvert_exporter": "python",
   "pygments_lexer": "ipython3",
   "version": "3.9.12"
  }
 },
 "nbformat": 4,
 "nbformat_minor": 4
}
